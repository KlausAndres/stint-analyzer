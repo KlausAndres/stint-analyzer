{
 "cells": [
  {
   "cell_type": "code",
   "execution_count": 1,
   "metadata": {},
   "outputs": [],
   "source": [
    "from StintAnalyzer import StintAnalyzer\n",
    "\n",
    "sta = StintAnalyzer()\n"
   ]
  },
  {
   "cell_type": "code",
   "execution_count": 2,
   "metadata": {},
   "outputs": [],
   "source": [
    "sta.load_df1(\"C:/Users/klaus/Documents/iRacing/Telemetry/tr.csv\")\n",
    "\n"
   ]
  },
  {
   "cell_type": "code",
   "execution_count": 3,
   "metadata": {},
   "outputs": [],
   "source": [
    "\n",
    "\n",
    "sta.load_df2(\"C:/Users/klaus/Documents/iRacing/Telemetry/tr.csv\")\n"
   ]
  },
  {
   "cell_type": "code",
   "execution_count": 4,
   "metadata": {},
   "outputs": [
    {
     "name": "stdout",
     "output_type": "stream",
     "text": [
      "['TrackName', 'TrackDisplayName', 'TrackConfigName', 'TrackLength', 'TrackCity', 'TrackCountry', 'TrackAltitude', 'TrackNumTurns', 'TrackWeatherType', 'TrackSkies', 'TrackSurfaceTemp', 'TrackAirTemp', 'TrackAirPressure', 'TrackWindVel', 'TrackRelativeHumidity', 'TrackFogLevel', 'TrackPrecipitation', 'EventType', 'TimeOfDay', 'Date', 'UserName', 'CarScreenName', 'CarScreenNameShort', 'IRating', 'LicString']\n"
     ]
    }
   ],
   "source": [
    "\n",
    "sta.setup_stintanalyzer()\n",
    "\n"
   ]
  },
  {
   "cell_type": "code",
   "execution_count": 5,
   "metadata": {},
   "outputs": [
    {
     "data": {
      "application/vnd.plotly.v1+json": {
       "config": {
        "plotlyServerURL": "https://plot.ly"
       },
       "data": [
        {
         "hovertemplate": "Speed: %{y} km/h",
         "line": {
          "color": "#1E4488",
          "shape": "hvh",
          "width": 2
         },
         "mode": "lines",
         "name": "Stint 1",
         "type": "scatter",
         "visible": true,
         "x": [
          1,
          2,
          3,
          4,
          5,
          6,
          7,
          8,
          9,
          10,
          11,
          12,
          13,
          14,
          15,
          16,
          17
         ],
         "xaxis": "x",
         "y": [
          230.3,
          230.6,
          231.2,
          230.9,
          233.2,
          231,
          226.5,
          229.8,
          227.9,
          230.1,
          231.3,
          233.1,
          229.8,
          231.3,
          231.4,
          229,
          230.8
         ],
         "yaxis": "y"
        },
        {
         "hovertemplate": "Speed: %{y} km/h",
         "line": {
          "color": "#FD2826",
          "shape": "hvh",
          "width": 2
         },
         "mode": "lines",
         "name": "Stint 2",
         "type": "scatter",
         "visible": true,
         "x": [
          1,
          2,
          3,
          4,
          5,
          6,
          7,
          8,
          9,
          10,
          11,
          12,
          13,
          14,
          15,
          16,
          17
         ],
         "xaxis": "x2",
         "y": [
          230.3,
          230.6,
          231.2,
          230.9,
          233.2,
          231,
          226.5,
          229.8,
          227.9,
          230.1,
          231.3,
          233.1,
          229.8,
          231.3,
          231.4,
          229,
          230.8
         ],
         "yaxis": "y2"
        },
        {
         "hovertemplate": "Mean: %{y} km/h",
         "line": {
          "color": "#00CCCC",
          "width": 1
         },
         "mode": "lines",
         "name": "mean",
         "type": "scatter",
         "visible": true,
         "x": [
          1,
          2,
          3,
          4,
          5,
          6,
          7,
          8,
          9,
          10,
          11,
          12,
          13,
          14,
          15,
          16,
          17
         ],
         "xaxis": "x",
         "y": [
          230.5,
          230.5,
          230.5,
          230.5,
          230.5,
          230.5,
          230.5,
          230.5,
          230.5,
          230.5,
          230.5,
          230.5,
          230.5,
          230.5,
          230.5,
          230.5,
          230.5
         ],
         "yaxis": "y"
        },
        {
         "hovertemplate": "Median: %{y} km/h",
         "line": {
          "color": "#33CC00",
          "width": 1
         },
         "mode": "lines",
         "name": "median",
         "type": "scatter",
         "visible": true,
         "x": [
          1,
          2,
          3,
          4,
          5,
          6,
          7,
          8,
          9,
          10,
          11,
          12,
          13,
          14,
          15,
          16,
          17
         ],
         "xaxis": "x",
         "y": [
          230.8,
          230.8,
          230.8,
          230.8,
          230.8,
          230.8,
          230.8,
          230.8,
          230.8,
          230.8,
          230.8,
          230.8,
          230.8,
          230.8,
          230.8,
          230.8,
          230.8
         ],
         "yaxis": "y"
        },
        {
         "hovertemplate": "Mean: %{y} km/h",
         "line": {
          "color": "#00CCCC",
          "width": 1
         },
         "mode": "lines",
         "showlegend": false,
         "type": "scatter",
         "visible": true,
         "x": [
          1,
          2,
          3,
          4,
          5,
          6,
          7,
          8,
          9,
          10,
          11,
          12,
          13,
          14,
          15,
          16,
          17
         ],
         "xaxis": "x2",
         "y": [
          230.5,
          230.5,
          230.5,
          230.5,
          230.5,
          230.5,
          230.5,
          230.5,
          230.5,
          230.5,
          230.5,
          230.5,
          230.5,
          230.5,
          230.5,
          230.5,
          230.5
         ],
         "yaxis": "y2"
        },
        {
         "hovertemplate": "Median: %{y} km/h",
         "line": {
          "color": "#33CC00",
          "width": 1
         },
         "mode": "lines",
         "showlegend": false,
         "type": "scatter",
         "visible": true,
         "x": [
          1,
          2,
          3,
          4,
          5,
          6,
          7,
          8,
          9,
          10,
          11,
          12,
          13,
          14,
          15,
          16,
          17
         ],
         "xaxis": "x2",
         "y": [
          230.8,
          230.8,
          230.8,
          230.8,
          230.8,
          230.8,
          230.8,
          230.8,
          230.8,
          230.8,
          230.8,
          230.8,
          230.8,
          230.8,
          230.8,
          230.8,
          230.8
         ],
         "yaxis": "y2"
        },
        {
         "hovertemplate": "Speed: %{y} km/h",
         "line": {
          "color": "#1E4488",
          "shape": "hvh",
          "width": 2
         },
         "mode": "lines",
         "name": "Stint 1",
         "type": "scatter",
         "visible": false,
         "x": [
          1,
          2,
          3,
          4,
          5,
          6,
          7,
          8,
          9,
          10,
          11,
          12,
          13,
          14,
          15,
          16,
          17
         ],
         "xaxis": "x",
         "y": [
          150,
          152.9,
          156.7,
          159,
          159,
          159.5,
          154.5,
          158.2,
          158.5,
          159,
          157.7,
          156.2,
          155.9,
          160.7,
          156.7,
          142.7,
          143
         ],
         "yaxis": "y"
        },
        {
         "hovertemplate": "Speed: %{y} km/h",
         "line": {
          "color": "#FD2826",
          "shape": "hvh",
          "width": 2
         },
         "mode": "lines",
         "name": "Stint 2",
         "type": "scatter",
         "visible": false,
         "x": [
          1,
          2,
          3,
          4,
          5,
          6,
          7,
          8,
          9,
          10,
          11,
          12,
          13,
          14,
          15,
          16,
          17
         ],
         "xaxis": "x2",
         "y": [
          150,
          152.9,
          156.7,
          159,
          159,
          159.5,
          154.5,
          158.2,
          158.5,
          159,
          157.7,
          156.2,
          155.9,
          160.7,
          156.7,
          142.7,
          143
         ],
         "yaxis": "y2"
        },
        {
         "hovertemplate": "Mean: %{y} km/h",
         "line": {
          "color": "#00CCCC",
          "width": 1
         },
         "mode": "lines",
         "name": "mean",
         "type": "scatter",
         "visible": false,
         "x": [
          1,
          2,
          3,
          4,
          5,
          6,
          7,
          8,
          9,
          10,
          11,
          12,
          13,
          14,
          15,
          16,
          17
         ],
         "xaxis": "x",
         "y": [
          155.3,
          155.3,
          155.3,
          155.3,
          155.3,
          155.3,
          155.3,
          155.3,
          155.3,
          155.3,
          155.3,
          155.3,
          155.3,
          155.3,
          155.3,
          155.3,
          155.3
         ],
         "yaxis": "y"
        },
        {
         "hovertemplate": "Median: %{y} km/h",
         "line": {
          "color": "#33CC00",
          "width": 1
         },
         "mode": "lines",
         "name": "median",
         "type": "scatter",
         "visible": false,
         "x": [
          1,
          2,
          3,
          4,
          5,
          6,
          7,
          8,
          9,
          10,
          11,
          12,
          13,
          14,
          15,
          16,
          17
         ],
         "xaxis": "x",
         "y": [
          156.7,
          156.7,
          156.7,
          156.7,
          156.7,
          156.7,
          156.7,
          156.7,
          156.7,
          156.7,
          156.7,
          156.7,
          156.7,
          156.7,
          156.7,
          156.7,
          156.7
         ],
         "yaxis": "y"
        },
        {
         "hovertemplate": "Mean: %{y} km/h",
         "line": {
          "color": "#00CCCC",
          "width": 1
         },
         "mode": "lines",
         "showlegend": false,
         "type": "scatter",
         "visible": false,
         "x": [
          1,
          2,
          3,
          4,
          5,
          6,
          7,
          8,
          9,
          10,
          11,
          12,
          13,
          14,
          15,
          16,
          17
         ],
         "xaxis": "x2",
         "y": [
          155.3,
          155.3,
          155.3,
          155.3,
          155.3,
          155.3,
          155.3,
          155.3,
          155.3,
          155.3,
          155.3,
          155.3,
          155.3,
          155.3,
          155.3,
          155.3,
          155.3
         ],
         "yaxis": "y2"
        },
        {
         "hovertemplate": "Median: %{y} km/h",
         "line": {
          "color": "#33CC00",
          "width": 1
         },
         "mode": "lines",
         "showlegend": false,
         "type": "scatter",
         "visible": false,
         "x": [
          1,
          2,
          3,
          4,
          5,
          6,
          7,
          8,
          9,
          10,
          11,
          12,
          13,
          14,
          15,
          16,
          17
         ],
         "xaxis": "x2",
         "y": [
          156.7,
          156.7,
          156.7,
          156.7,
          156.7,
          156.7,
          156.7,
          156.7,
          156.7,
          156.7,
          156.7,
          156.7,
          156.7,
          156.7,
          156.7,
          156.7,
          156.7
         ],
         "yaxis": "y2"
        },
        {
         "hovertemplate": "Speed: %{y} km/h",
         "line": {
          "color": "#1E4488",
          "shape": "hvh",
          "width": 2
         },
         "mode": "lines",
         "name": "Stint 1",
         "type": "scatter",
         "visible": false,
         "x": [
          1,
          2,
          3,
          4,
          5,
          6,
          7,
          8,
          9,
          10,
          11,
          12,
          13,
          14,
          15,
          16,
          17
         ],
         "xaxis": "x",
         "y": [
          78.6,
          75.2,
          83.4,
          81,
          78.5,
          84.2,
          58.4,
          75,
          88,
          89.1,
          83.8,
          75.1,
          84.1,
          82.8,
          53,
          0,
          0.2
         ],
         "yaxis": "y"
        },
        {
         "hovertemplate": "Speed: %{y} km/h",
         "line": {
          "color": "#FD2826",
          "shape": "hvh",
          "width": 2
         },
         "mode": "lines",
         "name": "Stint 2",
         "type": "scatter",
         "visible": false,
         "x": [
          1,
          2,
          3,
          4,
          5,
          6,
          7,
          8,
          9,
          10,
          11,
          12,
          13,
          14,
          15,
          16,
          17
         ],
         "xaxis": "x2",
         "y": [
          78.6,
          75.2,
          83.4,
          81,
          78.5,
          84.2,
          58.4,
          75,
          88,
          89.1,
          83.8,
          75.1,
          84.1,
          82.8,
          53,
          0,
          0.2
         ],
         "yaxis": "y2"
        },
        {
         "hovertemplate": "Mean: %{y} km/h",
         "line": {
          "color": "#00CCCC",
          "width": 1
         },
         "mode": "lines",
         "name": "mean",
         "type": "scatter",
         "visible": false,
         "x": [
          1,
          2,
          3,
          4,
          5,
          6,
          7,
          8,
          9,
          10,
          11,
          12,
          13,
          14,
          15,
          16,
          17
         ],
         "xaxis": "x",
         "y": [
          68.8,
          68.8,
          68.8,
          68.8,
          68.8,
          68.8,
          68.8,
          68.8,
          68.8,
          68.8,
          68.8,
          68.8,
          68.8,
          68.8,
          68.8,
          68.8,
          68.8
         ],
         "yaxis": "y"
        },
        {
         "hovertemplate": "Median: %{y} km/h",
         "line": {
          "color": "#33CC00",
          "width": 1
         },
         "mode": "lines",
         "name": "median",
         "type": "scatter",
         "visible": false,
         "x": [
          1,
          2,
          3,
          4,
          5,
          6,
          7,
          8,
          9,
          10,
          11,
          12,
          13,
          14,
          15,
          16,
          17
         ],
         "xaxis": "x",
         "y": [
          78.6,
          78.6,
          78.6,
          78.6,
          78.6,
          78.6,
          78.6,
          78.6,
          78.6,
          78.6,
          78.6,
          78.6,
          78.6,
          78.6,
          78.6,
          78.6,
          78.6
         ],
         "yaxis": "y"
        },
        {
         "hovertemplate": "Mean: %{y} km/h",
         "line": {
          "color": "#00CCCC",
          "width": 1
         },
         "mode": "lines",
         "showlegend": false,
         "type": "scatter",
         "visible": false,
         "x": [
          1,
          2,
          3,
          4,
          5,
          6,
          7,
          8,
          9,
          10,
          11,
          12,
          13,
          14,
          15,
          16,
          17
         ],
         "xaxis": "x2",
         "y": [
          68.8,
          68.8,
          68.8,
          68.8,
          68.8,
          68.8,
          68.8,
          68.8,
          68.8,
          68.8,
          68.8,
          68.8,
          68.8,
          68.8,
          68.8,
          68.8,
          68.8
         ],
         "yaxis": "y2"
        },
        {
         "hovertemplate": "Median: %{y} km/h",
         "line": {
          "color": "#33CC00",
          "width": 1
         },
         "mode": "lines",
         "showlegend": false,
         "type": "scatter",
         "visible": false,
         "x": [
          1,
          2,
          3,
          4,
          5,
          6,
          7,
          8,
          9,
          10,
          11,
          12,
          13,
          14,
          15,
          16,
          17
         ],
         "xaxis": "x2",
         "y": [
          78.6,
          78.6,
          78.6,
          78.6,
          78.6,
          78.6,
          78.6,
          78.6,
          78.6,
          78.6,
          78.6,
          78.6,
          78.6,
          78.6,
          78.6,
          78.6,
          78.6
         ],
         "yaxis": "y2"
        }
       ],
       "layout": {
        "annotations": [
         {
          "font": {
           "size": 16
          },
          "showarrow": false,
          "text": "Stint 1",
          "x": 0.2375,
          "xanchor": "center",
          "xref": "paper",
          "y": 1,
          "yanchor": "bottom",
          "yref": "paper"
         },
         {
          "font": {
           "size": 16
          },
          "showarrow": false,
          "text": "Stint 2",
          "x": 0.7625,
          "xanchor": "center",
          "xref": "paper",
          "y": 1,
          "yanchor": "bottom",
          "yref": "paper"
         }
        ],
        "autosize": true,
        "font": {
         "color": "#000000",
         "family": "'Roboto Condensed',sans-serif"
        },
        "height": 560,
        "hovermode": "x",
        "legend": {
         "title": {
          "text": "Stint"
         }
        },
        "margin": {
         "t": 140
        },
        "minreducedwidth": 400,
        "modebar": {
         "add": [
          "drawline",
          "drawopenpath",
          "drawcircle",
          "drawrect",
          "eraseshape"
         ],
         "remove": [
          "resetScale"
         ]
        },
        "separators": ",.",
        "template": {
         "data": {
          "bar": [
           {
            "error_x": {
             "color": "#2a3f5f"
            },
            "error_y": {
             "color": "#2a3f5f"
            },
            "marker": {
             "line": {
              "color": "white",
              "width": 0.5
             },
             "pattern": {
              "fillmode": "overlay",
              "size": 10,
              "solidity": 0.2
             }
            },
            "type": "bar"
           }
          ],
          "barpolar": [
           {
            "marker": {
             "line": {
              "color": "white",
              "width": 0.5
             },
             "pattern": {
              "fillmode": "overlay",
              "size": 10,
              "solidity": 0.2
             }
            },
            "type": "barpolar"
           }
          ],
          "carpet": [
           {
            "aaxis": {
             "endlinecolor": "#2a3f5f",
             "gridcolor": "#C8D4E3",
             "linecolor": "#C8D4E3",
             "minorgridcolor": "#C8D4E3",
             "startlinecolor": "#2a3f5f"
            },
            "baxis": {
             "endlinecolor": "#2a3f5f",
             "gridcolor": "#C8D4E3",
             "linecolor": "#C8D4E3",
             "minorgridcolor": "#C8D4E3",
             "startlinecolor": "#2a3f5f"
            },
            "type": "carpet"
           }
          ],
          "choropleth": [
           {
            "colorbar": {
             "outlinewidth": 0,
             "ticks": ""
            },
            "type": "choropleth"
           }
          ],
          "contour": [
           {
            "colorbar": {
             "outlinewidth": 0,
             "ticks": ""
            },
            "colorscale": [
             [
              0,
              "#0d0887"
             ],
             [
              0.1111111111111111,
              "#46039f"
             ],
             [
              0.2222222222222222,
              "#7201a8"
             ],
             [
              0.3333333333333333,
              "#9c179e"
             ],
             [
              0.4444444444444444,
              "#bd3786"
             ],
             [
              0.5555555555555556,
              "#d8576b"
             ],
             [
              0.6666666666666666,
              "#ed7953"
             ],
             [
              0.7777777777777778,
              "#fb9f3a"
             ],
             [
              0.8888888888888888,
              "#fdca26"
             ],
             [
              1,
              "#f0f921"
             ]
            ],
            "type": "contour"
           }
          ],
          "contourcarpet": [
           {
            "colorbar": {
             "outlinewidth": 0,
             "ticks": ""
            },
            "type": "contourcarpet"
           }
          ],
          "heatmap": [
           {
            "colorbar": {
             "outlinewidth": 0,
             "ticks": ""
            },
            "colorscale": [
             [
              0,
              "#0d0887"
             ],
             [
              0.1111111111111111,
              "#46039f"
             ],
             [
              0.2222222222222222,
              "#7201a8"
             ],
             [
              0.3333333333333333,
              "#9c179e"
             ],
             [
              0.4444444444444444,
              "#bd3786"
             ],
             [
              0.5555555555555556,
              "#d8576b"
             ],
             [
              0.6666666666666666,
              "#ed7953"
             ],
             [
              0.7777777777777778,
              "#fb9f3a"
             ],
             [
              0.8888888888888888,
              "#fdca26"
             ],
             [
              1,
              "#f0f921"
             ]
            ],
            "type": "heatmap"
           }
          ],
          "heatmapgl": [
           {
            "colorbar": {
             "outlinewidth": 0,
             "ticks": ""
            },
            "colorscale": [
             [
              0,
              "#0d0887"
             ],
             [
              0.1111111111111111,
              "#46039f"
             ],
             [
              0.2222222222222222,
              "#7201a8"
             ],
             [
              0.3333333333333333,
              "#9c179e"
             ],
             [
              0.4444444444444444,
              "#bd3786"
             ],
             [
              0.5555555555555556,
              "#d8576b"
             ],
             [
              0.6666666666666666,
              "#ed7953"
             ],
             [
              0.7777777777777778,
              "#fb9f3a"
             ],
             [
              0.8888888888888888,
              "#fdca26"
             ],
             [
              1,
              "#f0f921"
             ]
            ],
            "type": "heatmapgl"
           }
          ],
          "histogram": [
           {
            "marker": {
             "pattern": {
              "fillmode": "overlay",
              "size": 10,
              "solidity": 0.2
             }
            },
            "type": "histogram"
           }
          ],
          "histogram2d": [
           {
            "colorbar": {
             "outlinewidth": 0,
             "ticks": ""
            },
            "colorscale": [
             [
              0,
              "#0d0887"
             ],
             [
              0.1111111111111111,
              "#46039f"
             ],
             [
              0.2222222222222222,
              "#7201a8"
             ],
             [
              0.3333333333333333,
              "#9c179e"
             ],
             [
              0.4444444444444444,
              "#bd3786"
             ],
             [
              0.5555555555555556,
              "#d8576b"
             ],
             [
              0.6666666666666666,
              "#ed7953"
             ],
             [
              0.7777777777777778,
              "#fb9f3a"
             ],
             [
              0.8888888888888888,
              "#fdca26"
             ],
             [
              1,
              "#f0f921"
             ]
            ],
            "type": "histogram2d"
           }
          ],
          "histogram2dcontour": [
           {
            "colorbar": {
             "outlinewidth": 0,
             "ticks": ""
            },
            "colorscale": [
             [
              0,
              "#0d0887"
             ],
             [
              0.1111111111111111,
              "#46039f"
             ],
             [
              0.2222222222222222,
              "#7201a8"
             ],
             [
              0.3333333333333333,
              "#9c179e"
             ],
             [
              0.4444444444444444,
              "#bd3786"
             ],
             [
              0.5555555555555556,
              "#d8576b"
             ],
             [
              0.6666666666666666,
              "#ed7953"
             ],
             [
              0.7777777777777778,
              "#fb9f3a"
             ],
             [
              0.8888888888888888,
              "#fdca26"
             ],
             [
              1,
              "#f0f921"
             ]
            ],
            "type": "histogram2dcontour"
           }
          ],
          "mesh3d": [
           {
            "colorbar": {
             "outlinewidth": 0,
             "ticks": ""
            },
            "type": "mesh3d"
           }
          ],
          "parcoords": [
           {
            "line": {
             "colorbar": {
              "outlinewidth": 0,
              "ticks": ""
             }
            },
            "type": "parcoords"
           }
          ],
          "pie": [
           {
            "automargin": true,
            "type": "pie"
           }
          ],
          "scatter": [
           {
            "fillpattern": {
             "fillmode": "overlay",
             "size": 10,
             "solidity": 0.2
            },
            "type": "scatter"
           }
          ],
          "scatter3d": [
           {
            "line": {
             "colorbar": {
              "outlinewidth": 0,
              "ticks": ""
             }
            },
            "marker": {
             "colorbar": {
              "outlinewidth": 0,
              "ticks": ""
             }
            },
            "type": "scatter3d"
           }
          ],
          "scattercarpet": [
           {
            "marker": {
             "colorbar": {
              "outlinewidth": 0,
              "ticks": ""
             }
            },
            "type": "scattercarpet"
           }
          ],
          "scattergeo": [
           {
            "marker": {
             "colorbar": {
              "outlinewidth": 0,
              "ticks": ""
             }
            },
            "type": "scattergeo"
           }
          ],
          "scattergl": [
           {
            "marker": {
             "colorbar": {
              "outlinewidth": 0,
              "ticks": ""
             }
            },
            "type": "scattergl"
           }
          ],
          "scattermapbox": [
           {
            "marker": {
             "colorbar": {
              "outlinewidth": 0,
              "ticks": ""
             }
            },
            "type": "scattermapbox"
           }
          ],
          "scatterpolar": [
           {
            "marker": {
             "colorbar": {
              "outlinewidth": 0,
              "ticks": ""
             }
            },
            "type": "scatterpolar"
           }
          ],
          "scatterpolargl": [
           {
            "marker": {
             "colorbar": {
              "outlinewidth": 0,
              "ticks": ""
             }
            },
            "type": "scatterpolargl"
           }
          ],
          "scatterternary": [
           {
            "marker": {
             "colorbar": {
              "outlinewidth": 0,
              "ticks": ""
             }
            },
            "type": "scatterternary"
           }
          ],
          "surface": [
           {
            "colorbar": {
             "outlinewidth": 0,
             "ticks": ""
            },
            "colorscale": [
             [
              0,
              "#0d0887"
             ],
             [
              0.1111111111111111,
              "#46039f"
             ],
             [
              0.2222222222222222,
              "#7201a8"
             ],
             [
              0.3333333333333333,
              "#9c179e"
             ],
             [
              0.4444444444444444,
              "#bd3786"
             ],
             [
              0.5555555555555556,
              "#d8576b"
             ],
             [
              0.6666666666666666,
              "#ed7953"
             ],
             [
              0.7777777777777778,
              "#fb9f3a"
             ],
             [
              0.8888888888888888,
              "#fdca26"
             ],
             [
              1,
              "#f0f921"
             ]
            ],
            "type": "surface"
           }
          ],
          "table": [
           {
            "cells": {
             "fill": {
              "color": "#EBF0F8"
             },
             "line": {
              "color": "white"
             }
            },
            "header": {
             "fill": {
              "color": "#C8D4E3"
             },
             "line": {
              "color": "white"
             }
            },
            "type": "table"
           }
          ]
         },
         "layout": {
          "annotationdefaults": {
           "arrowcolor": "#2a3f5f",
           "arrowhead": 0,
           "arrowwidth": 1
          },
          "autotypenumbers": "strict",
          "coloraxis": {
           "colorbar": {
            "outlinewidth": 0,
            "ticks": ""
           }
          },
          "colorscale": {
           "diverging": [
            [
             0,
             "#8e0152"
            ],
            [
             0.1,
             "#c51b7d"
            ],
            [
             0.2,
             "#de77ae"
            ],
            [
             0.3,
             "#f1b6da"
            ],
            [
             0.4,
             "#fde0ef"
            ],
            [
             0.5,
             "#f7f7f7"
            ],
            [
             0.6,
             "#e6f5d0"
            ],
            [
             0.7,
             "#b8e186"
            ],
            [
             0.8,
             "#7fbc41"
            ],
            [
             0.9,
             "#4d9221"
            ],
            [
             1,
             "#276419"
            ]
           ],
           "sequential": [
            [
             0,
             "#0d0887"
            ],
            [
             0.1111111111111111,
             "#46039f"
            ],
            [
             0.2222222222222222,
             "#7201a8"
            ],
            [
             0.3333333333333333,
             "#9c179e"
            ],
            [
             0.4444444444444444,
             "#bd3786"
            ],
            [
             0.5555555555555556,
             "#d8576b"
            ],
            [
             0.6666666666666666,
             "#ed7953"
            ],
            [
             0.7777777777777778,
             "#fb9f3a"
            ],
            [
             0.8888888888888888,
             "#fdca26"
            ],
            [
             1,
             "#f0f921"
            ]
           ],
           "sequentialminus": [
            [
             0,
             "#0d0887"
            ],
            [
             0.1111111111111111,
             "#46039f"
            ],
            [
             0.2222222222222222,
             "#7201a8"
            ],
            [
             0.3333333333333333,
             "#9c179e"
            ],
            [
             0.4444444444444444,
             "#bd3786"
            ],
            [
             0.5555555555555556,
             "#d8576b"
            ],
            [
             0.6666666666666666,
             "#ed7953"
            ],
            [
             0.7777777777777778,
             "#fb9f3a"
            ],
            [
             0.8888888888888888,
             "#fdca26"
            ],
            [
             1,
             "#f0f921"
            ]
           ]
          },
          "colorway": [
           "#636efa",
           "#EF553B",
           "#00cc96",
           "#ab63fa",
           "#FFA15A",
           "#19d3f3",
           "#FF6692",
           "#B6E880",
           "#FF97FF",
           "#FECB52"
          ],
          "font": {
           "color": "#2a3f5f"
          },
          "geo": {
           "bgcolor": "white",
           "lakecolor": "white",
           "landcolor": "white",
           "showlakes": true,
           "showland": true,
           "subunitcolor": "#C8D4E3"
          },
          "hoverlabel": {
           "align": "left"
          },
          "hovermode": "closest",
          "mapbox": {
           "style": "light"
          },
          "paper_bgcolor": "white",
          "plot_bgcolor": "white",
          "polar": {
           "angularaxis": {
            "gridcolor": "#EBF0F8",
            "linecolor": "#EBF0F8",
            "ticks": ""
           },
           "bgcolor": "white",
           "radialaxis": {
            "gridcolor": "#EBF0F8",
            "linecolor": "#EBF0F8",
            "ticks": ""
           }
          },
          "scene": {
           "xaxis": {
            "backgroundcolor": "white",
            "gridcolor": "#DFE8F3",
            "gridwidth": 2,
            "linecolor": "#EBF0F8",
            "showbackground": true,
            "ticks": "",
            "zerolinecolor": "#EBF0F8"
           },
           "yaxis": {
            "backgroundcolor": "white",
            "gridcolor": "#DFE8F3",
            "gridwidth": 2,
            "linecolor": "#EBF0F8",
            "showbackground": true,
            "ticks": "",
            "zerolinecolor": "#EBF0F8"
           },
           "zaxis": {
            "backgroundcolor": "white",
            "gridcolor": "#DFE8F3",
            "gridwidth": 2,
            "linecolor": "#EBF0F8",
            "showbackground": true,
            "ticks": "",
            "zerolinecolor": "#EBF0F8"
           }
          },
          "shapedefaults": {
           "line": {
            "color": "#2a3f5f"
           }
          },
          "ternary": {
           "aaxis": {
            "gridcolor": "#DFE8F3",
            "linecolor": "#A2B1C6",
            "ticks": ""
           },
           "baxis": {
            "gridcolor": "#DFE8F3",
            "linecolor": "#A2B1C6",
            "ticks": ""
           },
           "bgcolor": "white",
           "caxis": {
            "gridcolor": "#DFE8F3",
            "linecolor": "#A2B1C6",
            "ticks": ""
           }
          },
          "title": {
           "x": 0.05
          },
          "xaxis": {
           "automargin": true,
           "gridcolor": "#EBF0F8",
           "linecolor": "#EBF0F8",
           "ticks": "",
           "title": {
            "standoff": 15
           },
           "zerolinecolor": "#EBF0F8",
           "zerolinewidth": 2
          },
          "yaxis": {
           "automargin": true,
           "gridcolor": "#EBF0F8",
           "linecolor": "#EBF0F8",
           "ticks": "",
           "title": {
            "standoff": 15
           },
           "zerolinecolor": "#EBF0F8",
           "zerolinewidth": 2
          }
         }
        },
        "title": {
         "font": {
          "size": 22.5
         },
         "text": "Lap Overview: Maximum Speed",
         "x": 0.5,
         "xanchor": "center"
        },
        "updatemenus": [
         {
          "buttons": [
           {
            "args": [
             {
              "visible": [
               true,
               true,
               true,
               true,
               true,
               true,
               false,
               false,
               false,
               false,
               false,
               false,
               false,
               false,
               false,
               false,
               false,
               false
              ]
             },
             {
              "title.text": "Lap Overview: Maximum Speed"
             }
            ],
            "label": "Maximum Speed",
            "method": "update"
           },
           {
            "args": [
             {
              "visible": [
               false,
               false,
               false,
               false,
               false,
               false,
               true,
               true,
               true,
               true,
               true,
               true,
               false,
               false,
               false,
               false,
               false,
               false
              ]
             },
             {
              "title.text": "Lap Overview: Average Speed"
             }
            ],
            "label": "Average Speed",
            "method": "update"
           },
           {
            "args": [
             {
              "visible": [
               false,
               false,
               false,
               false,
               false,
               false,
               false,
               false,
               false,
               false,
               false,
               false,
               true,
               true,
               true,
               true,
               true,
               true
              ]
             },
             {
              "title.text": "Lap Overview: Minimum Speed"
             }
            ],
            "label": "Minimum Speed",
            "method": "update"
           }
          ],
          "direction": "left",
          "type": "buttons",
          "x": 0,
          "xanchor": "left",
          "y": 1.25,
          "yanchor": "top"
         }
        ],
        "xaxis": {
         "anchor": "y",
         "domain": [
          0,
          0.475
         ],
         "linecolor": "#000000",
         "linewidth": 1,
         "showline": true,
         "title": {
          "text": "Lap"
         }
        },
        "xaxis2": {
         "anchor": "y2",
         "domain": [
          0.525,
          1
         ],
         "linecolor": "#000000",
         "linewidth": 1,
         "showline": true,
         "title": {
          "text": "Lap"
         }
        },
        "yaxis": {
         "anchor": "x",
         "domain": [
          0,
          1
         ],
         "linecolor": "#000000",
         "linewidth": 1,
         "showline": true,
         "title": {
          "text": "km/h"
         }
        },
        "yaxis2": {
         "anchor": "x2",
         "domain": [
          0,
          1
         ],
         "matches": "y",
         "showticklabels": false
        }
       }
      }
     },
     "metadata": {},
     "output_type": "display_data"
    }
   ],
   "source": [
    "\n",
    "sta.get_speed_per_lap(1500)\n"
   ]
  },
  {
   "cell_type": "code",
   "execution_count": null,
   "metadata": {},
   "outputs": [],
   "source": []
  }
 ],
 "metadata": {
  "kernelspec": {
   "display_name": "Python 3",
   "language": "python",
   "name": "python3"
  },
  "language_info": {
   "codemirror_mode": {
    "name": "ipython",
    "version": 3
   },
   "file_extension": ".py",
   "mimetype": "text/x-python",
   "name": "python",
   "nbconvert_exporter": "python",
   "pygments_lexer": "ipython3",
   "version": "3.11.5"
  }
 },
 "nbformat": 4,
 "nbformat_minor": 2
}
