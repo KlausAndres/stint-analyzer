{
 "cells": [
  {
   "cell_type": "code",
   "execution_count": 2,
   "metadata": {},
   "outputs": [],
   "source": [
    "import pyirsdk_convert"
   ]
  },
  {
   "cell_type": "code",
   "execution_count": 4,
   "metadata": {},
   "outputs": [
    {
     "data": {
      "text/plain": [
       "True"
      ]
     },
     "execution_count": 4,
     "metadata": {},
     "output_type": "execute_result"
    }
   ],
   "source": [
    "irsdk = pyirsdk_convert.IRSDK()\n",
    "irsdk.startup(\"C:/Users/klaus/Documents/iRacing/Telemetry/sfl_race.ibt\")"
   ]
  },
  {
   "cell_type": "code",
   "execution_count": 5,
   "metadata": {},
   "outputs": [
    {
     "data": {
      "text/plain": [
       "{'TrackName': 'montreal',\n",
       " 'TrackID': 218,\n",
       " 'TrackLength': '4.31 km',\n",
       " 'TrackLengthOfficial': '4.36 km',\n",
       " 'TrackDisplayName': 'Circuit Gilles Villeneuve',\n",
       " 'TrackDisplayShortName': 'Montreal',\n",
       " 'TrackConfigName': None,\n",
       " 'TrackCity': 'Montreal',\n",
       " 'TrackCountry': 'Canada',\n",
       " 'TrackAltitude': '8.39 m',\n",
       " 'TrackLatitude': '45.500092 m',\n",
       " 'TrackLongitude': '-73.522985 m',\n",
       " 'TrackNorthOffset': '2.8530 rad',\n",
       " 'TrackNumTurns': 13,\n",
       " 'TrackPitSpeedLimit': '80.00 kph',\n",
       " 'TrackType': 'road course',\n",
       " 'TrackDirection': 'neutral',\n",
       " 'TrackWeatherType': 'Realistic',\n",
       " 'TrackSkies': 'Dynamic',\n",
       " 'TrackSurfaceTemp': '33.32 C',\n",
       " 'TrackAirTemp': '19.07 C',\n",
       " 'TrackAirPressure': '30.23 Hg',\n",
       " 'TrackWindVel': '5.29 m/s',\n",
       " 'TrackWindDir': '0.85 rad',\n",
       " 'TrackRelativeHumidity': '23 %',\n",
       " 'TrackFogLevel': '0 %',\n",
       " 'TrackPrecipitation': '0 %',\n",
       " 'TrackCleanup': 1,\n",
       " 'TrackDynamicTrack': 1,\n",
       " 'TrackVersion': '2024.03.28.01',\n",
       " 'SeriesID': 551,\n",
       " 'SeasonID': 4823,\n",
       " 'SessionID': 234096178,\n",
       " 'SubSessionID': 67836617,\n",
       " 'LeagueID': 0,\n",
       " 'Official': 1,\n",
       " 'RaceWeek': 3,\n",
       " 'EventType': 'Race',\n",
       " 'Category': 'Formula',\n",
       " 'SimMode': 'full',\n",
       " 'TeamRacing': 0,\n",
       " 'MinDrivers': 0,\n",
       " 'MaxDrivers': 1,\n",
       " 'DCRuleSet': 'None',\n",
       " 'QualifierMustStartRace': 0,\n",
       " 'NumCarClasses': 1,\n",
       " 'NumCarTypes': 2,\n",
       " 'HeatRacing': 0,\n",
       " 'BuildType': 'Release',\n",
       " 'BuildTarget': 'Members',\n",
       " 'BuildVersion': '2024.04.02.01',\n",
       " 'WeekendOptions': {'NumStarters': 28,\n",
       "  'StartingGrid': '2x2 inline pole on left',\n",
       "  'QualifyScoring': 'best lap',\n",
       "  'CourseCautions': 'local',\n",
       "  'StandingStart': 1,\n",
       "  'ShortParadeLap': 0,\n",
       "  'Restarts': 'double file lapped cars behind',\n",
       "  'WeatherType': 'Realistic',\n",
       "  'Skies': 'Dynamic',\n",
       "  'WindDirection': 'N',\n",
       "  'WindSpeed': '3.22 km/h',\n",
       "  'WeatherTemp': '25.56 C',\n",
       "  'RelativeHumidity': '45 %',\n",
       "  'FogLevel': '0 %',\n",
       "  'TimeOfDay': '5:28 pm',\n",
       "  'Date': '2024-04-06',\n",
       "  'EarthRotationSpeedupFactor': 1,\n",
       "  'Unofficial': 0,\n",
       "  'CommercialMode': 'consumer',\n",
       "  'NightMode': 'variable',\n",
       "  'IsFixedSetup': 0,\n",
       "  'StrictLapsChecking': 'default',\n",
       "  'HasOpenRegistration': 0,\n",
       "  'HardcoreLevel': 1,\n",
       "  'NumJokerLaps': 0,\n",
       "  'IncidentLimit': 25,\n",
       "  'FastRepairsLimit': 0,\n",
       "  'GreenWhiteCheckeredLimit': 0},\n",
       " 'TelemetryOptions': {'TelemetryDiskFile': ''}}"
      ]
     },
     "execution_count": 5,
     "metadata": {},
     "output_type": "execute_result"
    }
   ],
   "source": [
    "irsdk['WeekendInfo']"
   ]
  },
  {
   "cell_type": "code",
   "execution_count": null,
   "metadata": {},
   "outputs": [],
   "source": []
  }
 ],
 "metadata": {
  "kernelspec": {
   "display_name": "Python 3",
   "language": "python",
   "name": "python3"
  },
  "language_info": {
   "codemirror_mode": {
    "name": "ipython",
    "version": 3
   },
   "file_extension": ".py",
   "mimetype": "text/x-python",
   "name": "python",
   "nbconvert_exporter": "python",
   "pygments_lexer": "ipython3",
   "version": "3.11.5"
  }
 },
 "nbformat": 4,
 "nbformat_minor": 2
}
